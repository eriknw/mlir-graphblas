{
 "cells": [
  {
   "cell_type": "markdown",
   "id": "5e37bc79",
   "metadata": {},
   "source": [
    "# graphblas.matrix_select\n",
    "\n",
    "This example will go over how to use the `--graphblas-lower` pass from `graphblas-opt` to lower the `graphblas.matrix_select` op.\n",
    "\n",
    "Let’s first import some necessary modules and generate an instance of our JIT engine."
   ]
  },
  {
   "cell_type": "code",
   "execution_count": 1,
   "id": "2e07aa14",
   "metadata": {},
   "outputs": [],
   "source": [
    "import mlir_graphblas\n",
    "import mlir_graphblas.sparse_utils\n",
    "import numpy as np\n",
    "\n",
    "engine = mlir_graphblas.MlirJitEngine()"
   ]
  },
  {
   "cell_type": "markdown",
   "id": "810ec81a",
   "metadata": {},
   "source": [
    "Here are the passes we'll use."
   ]
  },
  {
   "cell_type": "code",
   "execution_count": 2,
   "id": "a2e90887",
   "metadata": {},
   "outputs": [],
   "source": [
    "passes = [\n",
    "    \"--graphblas-lower\",\n",
    "    \"--sparsification\",\n",
    "    \"--sparse-tensor-conversion\",\n",
    "    \"--linalg-bufferize\",\n",
    "    \"--func-bufferize\",\n",
    "    \"--tensor-bufferize\",\n",
    "    \"--tensor-constant-bufferize\",\n",
    "    \"--finalizing-bufferize\",\n",
    "    \"--convert-linalg-to-loops\",\n",
    "    \"--convert-scf-to-std\",\n",
    "    \"--convert-memref-to-llvm\",\n",
    "    \"--convert-std-to-llvm\",\n",
    "]"
   ]
  },
  {
   "cell_type": "markdown",
   "id": "ebe9e06b",
   "metadata": {},
   "source": [
    "Similar to our examples using `graphblas.convert_layout`, we'll need some helper functions to convert sparse tensors to dense tensors. "
   ]
  },
  {
   "cell_type": "code",
   "execution_count": 3,
   "id": "4d369c21",
   "metadata": {},
   "outputs": [],
   "source": [
    "mlir_text = \"\"\"\n",
    "#trait_densify = {\n",
    "  indexing_maps = [\n",
    "    affine_map<(i,j) -> (i,j)>,\n",
    "    affine_map<(i,j) -> (i,j)>\n",
    "  ],\n",
    "  iterator_types = [\"parallel\", \"parallel\"]\n",
    "}\n",
    "\n",
    "#CSR64 = #sparse_tensor.encoding<{\n",
    "  dimLevelType = [ \"dense\", \"compressed\" ],\n",
    "  dimOrdering = affine_map<(i,j) -> (i,j)>,\n",
    "  pointerBitWidth = 64,\n",
    "  indexBitWidth = 64\n",
    "}>\n",
    "\n",
    "func @csr_densify4x4(%argA: tensor<4x4xf64, #CSR64>) -> tensor<4x4xf64> {\n",
    "  %output_storage = constant dense<0.0> : tensor<4x4xf64>\n",
    "  %0 = linalg.generic #trait_densify\n",
    "    ins(%argA: tensor<4x4xf64, #CSR64>)\n",
    "    outs(%output_storage: tensor<4x4xf64>) {\n",
    "      ^bb(%A: f64, %x: f64):\n",
    "        linalg.yield %A : f64\n",
    "    } -> tensor<4x4xf64>\n",
    "  return %0 : tensor<4x4xf64>\n",
    "}\n",
    "\"\"\""
   ]
  },
  {
   "cell_type": "markdown",
   "id": "d7d6df66",
   "metadata": {},
   "source": [
    "Let's compile our MLIR code. "
   ]
  },
  {
   "cell_type": "code",
   "execution_count": 4,
   "id": "dff20d10",
   "metadata": {},
   "outputs": [
    {
     "data": {
      "text/plain": [
       "['csr_densify4x4']"
      ]
     },
     "execution_count": 4,
     "metadata": {},
     "output_type": "execute_result"
    }
   ],
   "source": [
    "engine.add(mlir_text, passes)"
   ]
  },
  {
   "cell_type": "markdown",
   "id": "a36d6717",
   "metadata": {},
   "source": [
    "## Overview of graphblas.matrix_select\n",
    "\n",
    "Here, we'll show how to use the `graphblas.matrix_select` op. \n",
    "\n",
    "We'll give a brief explanation of how `graphblas.matrix_select` works here, but things will likely make more sense after reading the code examples shown later on. \n",
    "\n",
    "`graphblas.matrix_select` takes 1 sparse matrix operand in CSR format and returns several sparse matrices.\n",
    "- Each result matrix has the same size as the given matrix.\n",
    "- Each result matrix contains only a subset of the elements in the given sparse matrix\n",
    "- Which elements are kept in each result matrix is determined by a given `selectors` attribute. \n",
    "\n",
    "Here's an example use of the `graphblas.matrix_select` op:\n",
    "```\n",
    "%answer_triu, %answer_tril = graphblas.matrix_select %sparse_tensor { selectors = [\"triu\", \"tril\"] } : tensor<?x?xf64, #CSR64> to tensor<?x?xf64, #CSR64>, tensor<?x?xf64, #CSR64>\n",
    "```\n",
    "\n",
    "- `%answers` contains 2 returned values. The first corresponds to \"triu\" and the second corresponds to \"tril\".\n",
    "- The selector value of \"triu\" indicates that the result matrix will contain only the elements in the upper triangle of the given sparse matrix. This is similar to NumPy's [triu](https://numpy.org/doc/stable/reference/generated/numpy.triu.html). \n",
    "- The selector value of \"tril\" indicates that the result matrix will contain only the elements in the lower triangle of the given sparse matrix. This is similar to NumPy's [tril](https://numpy.org/doc/stable/reference/generated/numpy.tril.html). \n",
    "\n",
    "The supported options for the `selector` attribute are:\n",
    "\n",
    "- `triu`: Select the elements in the upper triangle.\n",
    "- `tril`: Select the elements in the lower triangle.\n",
    "- `gt`: Select the elements with values greater than the given thunk.\n",
    "\n",
    "Since some selectors (e.g. `gt`) require thunk values, those must be passed in as operands in addition to the input matrix. \n",
    "```\n",
    "%thunk_x = constant 0.0 : f64 // used for the first \"gt\" to calculate %b\n",
    "%thunk_y = constant 9.9 : f64 // used for the second \"gt\" to calculate %d\n",
    "%a, %b, %c, %d = graphblas.matrix_select %sparse_tensor, %thunk_x, %thunk_y { selectors = [\"triu\", \"gt\", \"tril\", \"gt\"] } : tensor<?x?xf64, #CSR64>, f64, f64 to tensor<?x?xf64, #CSR64>, tensor<?x?xf64, #CSR64>, tensor<?x?xf64, #CSR64>, tensor<?x?xf64, #CSR64>\n",
    "```\n",
    "\n",
    "Note that `graphblas.matrix_select` will fail if the given sparse matrix is not in CSR format. The result matrices will be in CSR format.\n",
    "\n",
    "Let's create an example input CSR matrix."
   ]
  },
  {
   "cell_type": "code",
   "execution_count": 5,
   "id": "e61f3d78",
   "metadata": {},
   "outputs": [],
   "source": [
    "indices = np.array(\n",
    "    [\n",
    "        [0, 3],\n",
    "        [1, 3],\n",
    "        [2, 0],\n",
    "        [3, 0],\n",
    "    ],\n",
    "    dtype=np.uint64,\n",
    ")\n",
    "values = np.array([-1, 2, -3, 4], dtype=np.float64)\n",
    "sizes = np.array([4, 4], dtype=np.uint64)\n",
    "sparsity = np.array([False, True], dtype=np.bool8)\n",
    "\n",
    "csr_matrix = mlir_graphblas.sparse_utils.MLIRSparseTensor(indices, values, sizes, sparsity)"
   ]
  },
  {
   "cell_type": "code",
   "execution_count": 6,
   "id": "c28226cf",
   "metadata": {},
   "outputs": [],
   "source": [
    "dense_matrix = engine.csr_densify4x4(csr_matrix)"
   ]
  },
  {
   "cell_type": "code",
   "execution_count": 7,
   "id": "98547128",
   "metadata": {},
   "outputs": [
    {
     "data": {
      "text/plain": [
       "array([[ 0.,  0.,  0., -1.],\n",
       "       [ 0.,  0.,  0.,  2.],\n",
       "       [-3.,  0.,  0.,  0.],\n",
       "       [ 4.,  0.,  0.,  0.]])"
      ]
     },
     "execution_count": 7,
     "metadata": {},
     "output_type": "execute_result"
    }
   ],
   "source": [
    "dense_matrix"
   ]
  },
  {
   "cell_type": "markdown",
   "id": "893f8929",
   "metadata": {},
   "source": [
    "## graphblas.matrix_select (Upper Triangle)\n",
    "\n",
    "Let's select the upper triangle. "
   ]
  },
  {
   "cell_type": "code",
   "execution_count": 8,
   "id": "c3df4772",
   "metadata": {},
   "outputs": [],
   "source": [
    "mlir_text = \"\"\"\n",
    "#CSR64 = #sparse_tensor.encoding<{\n",
    "  dimLevelType = [ \"dense\", \"compressed\" ],\n",
    "  dimOrdering = affine_map<(i,j) -> (i,j)>,\n",
    "  pointerBitWidth = 64,\n",
    "  indexBitWidth = 64\n",
    "}>\n",
    "\n",
    "#CSC64 = #sparse_tensor.encoding<{\n",
    "  dimLevelType = [ \"dense\", \"compressed\" ],\n",
    "  dimOrdering = affine_map<(i,j) -> (j,i)>,\n",
    "  pointerBitWidth = 64,\n",
    "  indexBitWidth = 64\n",
    "}>\n",
    "\n",
    "module {\n",
    "    func @select_triu(%sparse_tensor: tensor<?x?xf64, #CSR64>) -> tensor<?x?xf64, #CSR64> {\n",
    "        %answer = graphblas.matrix_select %sparse_tensor { selectors = [\"triu\"] } : tensor<?x?xf64, #CSR64> to tensor<?x?xf64, #CSR64>\n",
    "        return %answer : tensor<?x?xf64, #CSR64>\n",
    "    }\n",
    "}\n",
    "\"\"\""
   ]
  },
  {
   "cell_type": "code",
   "execution_count": 9,
   "id": "42401ae5",
   "metadata": {},
   "outputs": [
    {
     "data": {
      "text/plain": [
       "['select_triu']"
      ]
     },
     "execution_count": 9,
     "metadata": {},
     "output_type": "execute_result"
    }
   ],
   "source": [
    "engine.add(mlir_text, passes)"
   ]
  },
  {
   "cell_type": "code",
   "execution_count": 10,
   "id": "274035dc",
   "metadata": {},
   "outputs": [],
   "source": [
    "upper_triangle = engine.select_triu(csr_matrix)"
   ]
  },
  {
   "cell_type": "code",
   "execution_count": 11,
   "id": "98759724",
   "metadata": {},
   "outputs": [
    {
     "data": {
      "text/plain": [
       "array([[ 0.,  0.,  0., -1.],\n",
       "       [ 0.,  0.,  0.,  2.],\n",
       "       [ 0.,  0.,  0.,  0.],\n",
       "       [ 0.,  0.,  0.,  0.]])"
      ]
     },
     "execution_count": 11,
     "metadata": {},
     "output_type": "execute_result"
    }
   ],
   "source": [
    "engine.csr_densify4x4(upper_triangle)"
   ]
  },
  {
   "cell_type": "markdown",
   "id": "f15054ee",
   "metadata": {},
   "source": [
    "The result looks sane. Let's verify that it has the same behavior as NumPy's [triu](https://numpy.org/doc/stable/reference/generated/numpy.triu.html)."
   ]
  },
  {
   "cell_type": "code",
   "execution_count": 12,
   "id": "dcbee3c4",
   "metadata": {
    "scrolled": true
   },
   "outputs": [
    {
     "data": {
      "text/plain": [
       "True"
      ]
     },
     "execution_count": 12,
     "metadata": {},
     "output_type": "execute_result"
    }
   ],
   "source": [
    "np.all(np.triu(dense_matrix) == engine.csr_densify4x4(upper_triangle))"
   ]
  },
  {
   "cell_type": "markdown",
   "id": "433315f1",
   "metadata": {},
   "source": [
    "## graphblas.matrix_select (Lower Triangle)\n",
    "\n",
    "Let's select the lower triangle. "
   ]
  },
  {
   "cell_type": "code",
   "execution_count": 13,
   "id": "226e7499",
   "metadata": {},
   "outputs": [],
   "source": [
    "mlir_text = \"\"\"\n",
    "#CSR64 = #sparse_tensor.encoding<{\n",
    "  dimLevelType = [ \"dense\", \"compressed\" ],\n",
    "  dimOrdering = affine_map<(i,j) -> (i,j)>,\n",
    "  pointerBitWidth = 64,\n",
    "  indexBitWidth = 64\n",
    "}>\n",
    "\n",
    "#CSC64 = #sparse_tensor.encoding<{\n",
    "  dimLevelType = [ \"dense\", \"compressed\" ],\n",
    "  dimOrdering = affine_map<(i,j) -> (j,i)>,\n",
    "  pointerBitWidth = 64,\n",
    "  indexBitWidth = 64\n",
    "}>\n",
    "\n",
    "module {\n",
    "    func @select_tril(%sparse_tensor: tensor<?x?xf64, #CSR64>) -> tensor<?x?xf64, #CSR64> {\n",
    "        %answer = graphblas.matrix_select %sparse_tensor { selectors = [\"tril\"] } : tensor<?x?xf64, #CSR64> to tensor<?x?xf64, #CSR64>\n",
    "        return %answer : tensor<?x?xf64, #CSR64>\n",
    "    }\n",
    "}\n",
    "\"\"\""
   ]
  },
  {
   "cell_type": "code",
   "execution_count": 14,
   "id": "677738cf",
   "metadata": {},
   "outputs": [
    {
     "data": {
      "text/plain": [
       "['select_tril']"
      ]
     },
     "execution_count": 14,
     "metadata": {},
     "output_type": "execute_result"
    }
   ],
   "source": [
    "engine.add(mlir_text, passes)"
   ]
  },
  {
   "cell_type": "code",
   "execution_count": 15,
   "id": "eefbe195",
   "metadata": {},
   "outputs": [],
   "source": [
    "lower_triangle = engine.select_tril(csr_matrix)"
   ]
  },
  {
   "cell_type": "code",
   "execution_count": 16,
   "id": "43b92708",
   "metadata": {},
   "outputs": [
    {
     "data": {
      "text/plain": [
       "array([[ 0.,  0.,  0.,  0.],\n",
       "       [ 0.,  0.,  0.,  0.],\n",
       "       [-3.,  0.,  0.,  0.],\n",
       "       [ 4.,  0.,  0.,  0.]])"
      ]
     },
     "execution_count": 16,
     "metadata": {},
     "output_type": "execute_result"
    }
   ],
   "source": [
    "engine.csr_densify4x4(lower_triangle)"
   ]
  },
  {
   "cell_type": "markdown",
   "id": "0f6f9f91",
   "metadata": {},
   "source": [
    "The result looks sane. Let's verify that it has the same behavior as NumPy's [tril](https://numpy.org/doc/stable/reference/generated/numpy.tril.html)."
   ]
  },
  {
   "cell_type": "code",
   "execution_count": 17,
   "id": "e8e3ec4e",
   "metadata": {
    "scrolled": false
   },
   "outputs": [
    {
     "data": {
      "text/plain": [
       "True"
      ]
     },
     "execution_count": 17,
     "metadata": {},
     "output_type": "execute_result"
    }
   ],
   "source": [
    "np.all(np.tril(dense_matrix) == engine.csr_densify4x4(lower_triangle))"
   ]
  },
  {
   "cell_type": "markdown",
   "id": "43e18164",
   "metadata": {},
   "source": [
    "## graphblas.matrix_select (Greater Than Zero)\n",
    "\n",
    "Let's select the elements whose values are greater than zero. \n",
    "\n",
    "Note that this is equivalent to passing the sparse matrix through a [ReLU activation function](https://en.wikipedia.org/wiki/Rectifier_%28neural_networks%29)."
   ]
  },
  {
   "cell_type": "code",
   "execution_count": 18,
   "id": "6ca37d38",
   "metadata": {},
   "outputs": [],
   "source": [
    "mlir_text = \"\"\"\n",
    "#CSR64 = #sparse_tensor.encoding<{\n",
    "  dimLevelType = [ \"dense\", \"compressed\" ],\n",
    "  dimOrdering = affine_map<(i,j) -> (i,j)>,\n",
    "  pointerBitWidth = 64,\n",
    "  indexBitWidth = 64\n",
    "}>\n",
    "\n",
    "#CSC64 = #sparse_tensor.encoding<{\n",
    "  dimLevelType = [ \"dense\", \"compressed\" ],\n",
    "  dimOrdering = affine_map<(i,j) -> (j,i)>,\n",
    "  pointerBitWidth = 64,\n",
    "  indexBitWidth = 64\n",
    "}>\n",
    "\n",
    "module {\n",
    "    func @select_gt_0(%sparse_tensor: tensor<?x?xf64, #CSR64>) -> tensor<?x?xf64, #CSR64> {\n",
    "        %thunk = constant 0.0 : f64\n",
    "        %answer = graphblas.matrix_select %sparse_tensor, %thunk { selectors = [\"gt\"] } : tensor<?x?xf64, #CSR64>, f64 to tensor<?x?xf64, #CSR64>\n",
    "        return %answer : tensor<?x?xf64, #CSR64>\n",
    "    }\n",
    "}\n",
    "\"\"\""
   ]
  },
  {
   "cell_type": "code",
   "execution_count": 19,
   "id": "fefe55b5",
   "metadata": {},
   "outputs": [
    {
     "data": {
      "text/plain": [
       "['select_gt_0']"
      ]
     },
     "execution_count": 19,
     "metadata": {},
     "output_type": "execute_result"
    }
   ],
   "source": [
    "engine.add(mlir_text, passes)"
   ]
  },
  {
   "cell_type": "code",
   "execution_count": 20,
   "id": "b11d2e7e",
   "metadata": {},
   "outputs": [],
   "source": [
    "result = engine.select_gt_0(csr_matrix)"
   ]
  },
  {
   "cell_type": "code",
   "execution_count": 21,
   "id": "28df4fa0",
   "metadata": {},
   "outputs": [
    {
     "data": {
      "text/plain": [
       "array([[0., 0., 0., 0.],\n",
       "       [0., 0., 0., 2.],\n",
       "       [0., 0., 0., 0.],\n",
       "       [4., 0., 0., 0.]])"
      ]
     },
     "execution_count": 21,
     "metadata": {},
     "output_type": "execute_result"
    }
   ],
   "source": [
    "engine.csr_densify4x4(result)"
   ]
  },
  {
   "cell_type": "markdown",
   "id": "fe1235c6",
   "metadata": {},
   "source": [
    "The result looks sane. Let's verify that it has the same behavior as NumPy."
   ]
  },
  {
   "cell_type": "code",
   "execution_count": 22,
   "id": "49066eef",
   "metadata": {
    "scrolled": false
   },
   "outputs": [
    {
     "data": {
      "text/plain": [
       "True"
      ]
     },
     "execution_count": 22,
     "metadata": {},
     "output_type": "execute_result"
    }
   ],
   "source": [
    "np.all(dense_matrix*(dense_matrix>0) == engine.csr_densify4x4(result))"
   ]
  },
  {
   "cell_type": "markdown",
   "id": "f671f9cf",
   "metadata": {},
   "source": [
    "## graphblas.matrix_select (Multiple Selectors)\n",
    "\n",
    "Let's use `graphblas.matrix_select` with multiple selectors. \n",
    "\n",
    "We'll write one function that'll use all three selectors shown above and will return 3 matrices. "
   ]
  },
  {
   "cell_type": "code",
   "execution_count": 23,
   "id": "46d02360",
   "metadata": {},
   "outputs": [],
   "source": [
    "mlir_text = \"\"\"\n",
    "#CSR64 = #sparse_tensor.encoding<{\n",
    "  dimLevelType = [ \"dense\", \"compressed\" ],\n",
    "  dimOrdering = affine_map<(i,j) -> (i,j)>,\n",
    "  pointerBitWidth = 64,\n",
    "  indexBitWidth = 64\n",
    "}>\n",
    "\n",
    "#CSC64 = #sparse_tensor.encoding<{\n",
    "  dimLevelType = [ \"dense\", \"compressed\" ],\n",
    "  dimOrdering = affine_map<(i,j) -> (j,i)>,\n",
    "  pointerBitWidth = 64,\n",
    "  indexBitWidth = 64\n",
    "}>\n",
    "\n",
    "module {\n",
    "    func @select_many(%sparse_tensor: tensor<?x?xf64, #CSR64>) -> (tensor<?x?xf64, #CSR64>, tensor<?x?xf64, #CSR64>, tensor<?x?xf64, #CSR64>) {\n",
    "        %c0_f64 = constant 0.0 : f64\n",
    "        %triu, %tril, %gt_0  = graphblas.matrix_select %sparse_tensor, %c0_f64 { selectors = [\"triu\", \"tril\", \"gt\"] } : tensor<?x?xf64, #CSR64>, f64 to tensor<?x?xf64, #CSR64>, tensor<?x?xf64, #CSR64>, tensor<?x?xf64, #CSR64>\n",
    "        return %triu, %tril, %gt_0 : tensor<?x?xf64, #CSR64>, tensor<?x?xf64, #CSR64>, tensor<?x?xf64, #CSR64>\n",
    "    }\n",
    "}\n",
    "\"\"\""
   ]
  },
  {
   "cell_type": "code",
   "execution_count": 24,
   "id": "9d546801",
   "metadata": {},
   "outputs": [
    {
     "data": {
      "text/plain": [
       "['select_many']"
      ]
     },
     "execution_count": 24,
     "metadata": {},
     "output_type": "execute_result"
    }
   ],
   "source": [
    "engine.add(mlir_text, passes)"
   ]
  },
  {
   "cell_type": "code",
   "execution_count": 25,
   "id": "ee637d2c",
   "metadata": {},
   "outputs": [],
   "source": [
    "triu_result, tril_result, gt_result = engine.select_many(csr_matrix)"
   ]
  },
  {
   "cell_type": "code",
   "execution_count": 26,
   "id": "a38b157d",
   "metadata": {},
   "outputs": [
    {
     "data": {
      "text/plain": [
       "array([[ 0.,  0.,  0., -1.],\n",
       "       [ 0.,  0.,  0.,  2.],\n",
       "       [ 0.,  0.,  0.,  0.],\n",
       "       [ 0.,  0.,  0.,  0.]])"
      ]
     },
     "execution_count": 26,
     "metadata": {},
     "output_type": "execute_result"
    }
   ],
   "source": [
    "engine.csr_densify4x4(triu_result)"
   ]
  },
  {
   "cell_type": "code",
   "execution_count": 27,
   "id": "61b3fa13",
   "metadata": {},
   "outputs": [
    {
     "data": {
      "text/plain": [
       "array([[ 0.,  0.,  0.,  0.],\n",
       "       [ 0.,  0.,  0.,  0.],\n",
       "       [-3.,  0.,  0.,  0.],\n",
       "       [ 4.,  0.,  0.,  0.]])"
      ]
     },
     "execution_count": 27,
     "metadata": {},
     "output_type": "execute_result"
    }
   ],
   "source": [
    "engine.csr_densify4x4(tril_result)"
   ]
  },
  {
   "cell_type": "code",
   "execution_count": 28,
   "id": "c0251d30",
   "metadata": {},
   "outputs": [
    {
     "data": {
      "text/plain": [
       "array([[0., 0., 0., 0.],\n",
       "       [0., 0., 0., 2.],\n",
       "       [0., 0., 0., 0.],\n",
       "       [4., 0., 0., 0.]])"
      ]
     },
     "execution_count": 28,
     "metadata": {},
     "output_type": "execute_result"
    }
   ],
   "source": [
    "engine.csr_densify4x4(gt_result)"
   ]
  }
 ],
 "metadata": {
  "kernelspec": {
   "display_name": "Python 3 (ipykernel)",
   "language": "python",
   "name": "python3"
  },
  "language_info": {
   "codemirror_mode": {
    "name": "ipython",
    "version": 3
   },
   "file_extension": ".py",
   "mimetype": "text/x-python",
   "name": "python",
   "nbconvert_exporter": "python",
   "pygments_lexer": "ipython3",
   "version": "3.8.10"
  }
 },
 "nbformat": 4,
 "nbformat_minor": 5
}
